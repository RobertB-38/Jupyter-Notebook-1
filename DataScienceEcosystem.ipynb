{
 "cells": [
  {
   "cell_type": "markdown",
   "id": "f53dfd07-cb41-4885-b991-8088199a7bfa",
   "metadata": {},
   "source": [
    "# Data Science Tools and Ecosystem\n"
   ]
  },
  {
   "cell_type": "markdown",
   "id": "bb5dab09-cee4-4187-8776-907b9354bc65",
   "metadata": {},
   "source": [
    "In this notebook, Data Science Tools and Ecosystem are summarized."
   ]
  },
  {
   "cell_type": "markdown",
   "id": "a9999bed-5b0a-4c0b-9e6c-2b9bda221f55",
   "metadata": {},
   "source": [
    "**Objectives:**<br>\n",
    "- Popular languages used by Data Scientists<br>\n",
    "- Commonly used libraries used by Data Scientists<br>\n",
    "- Table of Data Science Tools<br>\n",
    "- Evaluating Arithmetic Expressions in Python<br>\n",
    "- Converting minutes to hours<br>"
   ]
  },
  {
   "cell_type": "markdown",
   "id": "db12925c-60fb-4449-91a0-8dff8810fca5",
   "metadata": {},
   "source": [
    "Some of the popular languages that Data Scientists use are:<br>\n",
    "    1. Python<br>\n",
    "    2. Julia<br>\n",
    "    3. SQL<br>\n",
    "    4. Scala"
   ]
  },
  {
   "cell_type": "markdown",
   "id": "773e9138-e94d-4b11-a216-789c38b2aab6",
   "metadata": {},
   "source": [
    "Some of the commonly used libraries used by Data Scientists include:<br>\n",
    "1. Matplotlib<br>\n",
    "2. NumPy<br>\n",
    "3. ggplot<br>\n",
    "4. Scikit-learn"
   ]
  },
  {
   "cell_type": "markdown",
   "id": "3004d886-44ea-4d52-a6ac-aacfddf138dd",
   "metadata": {},
   "source": [
    "| Data Science Tools | Jyputer Notebook | VS Code | Spyder |\n",
    "| ------------------ | ---------------- | ------- | ------ |"
   ]
  },
  {
   "cell_type": "markdown",
   "id": "b46641a2-bfbd-4f36-a175-6a67b72f1340",
   "metadata": {},
   "source": [
    "### Below are a few examples of evaluating arithmetic expressions in Python."
   ]
  },
  {
   "cell_type": "code",
   "execution_count": 3,
   "id": "6d2dd209-da12-4902-856f-8c3c8238dd5c",
   "metadata": {
    "tags": []
   },
   "outputs": [
    {
     "data": {
      "text/plain": [
       "17"
      ]
     },
     "execution_count": 3,
     "metadata": {},
     "output_type": "execute_result"
    }
   ],
   "source": [
    "# This a simple arithmetic expression to mutiply then add integers\n",
    "(3*4)+5"
   ]
  },
  {
   "cell_type": "code",
   "execution_count": 4,
   "id": "c1b4247d-0bce-4426-a997-19af95938e1d",
   "metadata": {
    "tags": []
   },
   "outputs": [
    {
     "data": {
      "text/plain": [
       "3.3333333333333335"
      ]
     },
     "execution_count": 4,
     "metadata": {},
     "output_type": "execute_result"
    }
   ],
   "source": [
    "# This will convert 200 minutes to hours by diving by 60\n",
    "200/60"
   ]
  },
  {
   "cell_type": "markdown",
   "id": "3518d575-31ba-4289-a2e4-d5b80ba514e1",
   "metadata": {},
   "source": [
    "## Author\n",
    "Robert Borkar"
   ]
  }
 ],
 "metadata": {
  "kernelspec": {
   "display_name": "Python",
   "language": "python",
   "name": "conda-env-python-py"
  },
  "language_info": {
   "codemirror_mode": {
    "name": "ipython",
    "version": 3
   },
   "file_extension": ".py",
   "mimetype": "text/x-python",
   "name": "python",
   "nbconvert_exporter": "python",
   "pygments_lexer": "ipython3",
   "version": "3.7.12"
  }
 },
 "nbformat": 4,
 "nbformat_minor": 5
}
